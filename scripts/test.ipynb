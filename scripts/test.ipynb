{
 "cells": [
  {
   "cell_type": "code",
   "execution_count": 93,
   "id": "ddbba4fb",
   "metadata": {},
   "outputs": [],
   "source": [
    "import ergast_py"
   ]
  },
  {
   "cell_type": "code",
   "execution_count": 94,
   "id": "eba15426",
   "metadata": {},
   "outputs": [],
   "source": [
    "e = ergast_py.Ergast()"
   ]
  },
  {
   "cell_type": "code",
   "execution_count": 131,
   "id": "ae46c0c2",
   "metadata": {},
   "outputs": [
    {
     "ename": "KeyError",
     "evalue": "'Lapped'",
     "output_type": "error",
     "traceback": [
      "\u001b[31m---------------------------------------------------------------------------\u001b[39m",
      "\u001b[31mKeyError\u001b[39m                                  Traceback (most recent call last)",
      "\u001b[36mCell\u001b[39m\u001b[36m \u001b[39m\u001b[32mIn[131]\u001b[39m\u001b[32m, line 1\u001b[39m\n\u001b[32m----> \u001b[39m\u001b[32m1\u001b[39m results = \u001b[43me\u001b[49m\u001b[43m.\u001b[49m\u001b[43mseason\u001b[49m\u001b[43m(\u001b[49m\u001b[32;43m2023\u001b[39;49m\u001b[43m)\u001b[49m\u001b[43m.\u001b[49m\u001b[43mround\u001b[49m\u001b[43m(\u001b[49m\u001b[32;43m1\u001b[39;49m\u001b[43m)\u001b[49m\u001b[43m.\u001b[49m\u001b[43mget_results\u001b[49m\u001b[43m(\u001b[49m\u001b[43m)\u001b[49m\n",
      "\u001b[36mFile \u001b[39m\u001b[32m~/miniconda3/envs/haia/lib/python3.13/site-packages/ergast_py/ergast.py:352\u001b[39m, in \u001b[36mErgast.get_results\u001b[39m\u001b[34m(self)\u001b[39m\n\u001b[32m    348\u001b[39m \u001b[38;5;28;01mdef\u001b[39;00m\u001b[38;5;250m \u001b[39m\u001b[34mget_results\u001b[39m(\u001b[38;5;28mself\u001b[39m) -> \u001b[38;5;28mlist\u001b[39m[Race]:\n\u001b[32m    349\u001b[39m \u001b[38;5;250m    \u001b[39m\u001b[33;03m\"\"\"\u001b[39;00m\n\u001b[32m    350\u001b[39m \u001b[33;03m    Get a list of results from the current query\u001b[39;00m\n\u001b[32m    351\u001b[39m \u001b[33;03m    \"\"\"\u001b[39;00m\n\u001b[32m--> \u001b[39m\u001b[32m352\u001b[39m     \u001b[38;5;28;01mreturn\u001b[39;00m \u001b[38;5;28;43mself\u001b[39;49m\u001b[43m.\u001b[49m\u001b[43m_get_items\u001b[49m\u001b[43m(\u001b[49m\n\u001b[32m    353\u001b[39m \u001b[43m        \u001b[49m\u001b[38;5;28;43mself\u001b[39;49m\u001b[43m.\u001b[49m\u001b[43mrequester\u001b[49m\u001b[43m.\u001b[49m\u001b[43mget_results\u001b[49m\u001b[43m,\u001b[49m\u001b[43m \u001b[49m\u001b[38;5;28;43mself\u001b[39;49m\u001b[43m.\u001b[49m\u001b[43mtype_constructor\u001b[49m\u001b[43m.\u001b[49m\u001b[43mconstruct_races\u001b[49m\n\u001b[32m    354\u001b[39m \u001b[43m    \u001b[49m\u001b[43m)\u001b[49m\n",
      "\u001b[36mFile \u001b[39m\u001b[32m~/miniconda3/envs/haia/lib/python3.13/site-packages/ergast_py/ergast.py:251\u001b[39m, in \u001b[36mErgast._get_items\u001b[39m\u001b[34m(self, get_items, construct_items)\u001b[39m\n\u001b[32m    249\u001b[39m \u001b[38;5;28;01mdef\u001b[39;00m\u001b[38;5;250m \u001b[39m\u001b[34m_get_items\u001b[39m(\u001b[38;5;28mself\u001b[39m, get_items: Callable, construct_items: Callable):\n\u001b[32m    250\u001b[39m     items_json = get_items(\u001b[38;5;28mself\u001b[39m.params)\n\u001b[32m--> \u001b[39m\u001b[32m251\u001b[39m     items = \u001b[43mconstruct_items\u001b[49m\u001b[43m(\u001b[49m\u001b[43mitems_json\u001b[49m\u001b[43m)\u001b[49m\n\u001b[32m    252\u001b[39m     \u001b[38;5;28mself\u001b[39m.reset()\n\u001b[32m    253\u001b[39m     \u001b[38;5;28;01mreturn\u001b[39;00m items\n",
      "\u001b[36mFile \u001b[39m\u001b[32m~/miniconda3/envs/haia/lib/python3.13/site-packages/ergast_py/type_constructor.py:248\u001b[39m, in \u001b[36mTypeConstructor.construct_races\u001b[39m\u001b[34m(self, races)\u001b[39m\n\u001b[32m    244\u001b[39m \u001b[38;5;28;01mdef\u001b[39;00m\u001b[38;5;250m \u001b[39m\u001b[34mconstruct_races\u001b[39m(\u001b[38;5;28mself\u001b[39m, races: \u001b[38;5;28mdict\u001b[39m) -> \u001b[38;5;28mlist\u001b[39m[Race]:\n\u001b[32m    245\u001b[39m \u001b[38;5;250m    \u001b[39m\u001b[33;03m\"\"\"\u001b[39;00m\n\u001b[32m    246\u001b[39m \u001b[33;03m    Construct a list of Races from a JSON dictionary\u001b[39;00m\n\u001b[32m    247\u001b[39m \u001b[33;03m    \"\"\"\u001b[39;00m\n\u001b[32m--> \u001b[39m\u001b[32m248\u001b[39m     \u001b[38;5;28;01mreturn\u001b[39;00m [\u001b[38;5;28;43mself\u001b[39;49m\u001b[43m.\u001b[49m\u001b[43mconstruct_race\u001b[49m\u001b[43m(\u001b[49m\u001b[43mrace\u001b[49m\u001b[43m)\u001b[49m \u001b[38;5;28;01mfor\u001b[39;00m race \u001b[38;5;129;01min\u001b[39;00m races]\n",
      "\u001b[36mFile \u001b[39m\u001b[32m~/miniconda3/envs/haia/lib/python3.13/site-packages/ergast_py/type_constructor.py:219\u001b[39m, in \u001b[36mTypeConstructor.construct_race\u001b[39m\u001b[34m(self, race)\u001b[39m\n\u001b[32m    208\u001b[39m     \u001b[38;5;28;01mexcept\u001b[39;00m \u001b[38;5;167;01mValueError\u001b[39;00m:\n\u001b[32m    209\u001b[39m         \u001b[38;5;66;03m# Warn that the value isn't present\u001b[39;00m\n\u001b[32m    210\u001b[39m         \u001b[38;5;28;01mcontinue\u001b[39;00m\n\u001b[32m    212\u001b[39m \u001b[38;5;28;01mreturn\u001b[39;00m Race(\n\u001b[32m    213\u001b[39m     season=\u001b[38;5;28mint\u001b[39m(race[\u001b[33m\"\u001b[39m\u001b[33mseason\u001b[39m\u001b[33m\"\u001b[39m]),\n\u001b[32m    214\u001b[39m     round_no=\u001b[38;5;28mint\u001b[39m(race[\u001b[33m\"\u001b[39m\u001b[33mround\u001b[39m\u001b[33m\"\u001b[39m]),\n\u001b[32m    215\u001b[39m     url=race[\u001b[33m\"\u001b[39m\u001b[33murl\u001b[39m\u001b[33m\"\u001b[39m],\n\u001b[32m    216\u001b[39m     race_name=race[\u001b[33m\"\u001b[39m\u001b[33mraceName\u001b[39m\u001b[33m\"\u001b[39m],\n\u001b[32m    217\u001b[39m     circuit=\u001b[38;5;28mself\u001b[39m.construct_circuit(race[\u001b[33m\"\u001b[39m\u001b[33mCircuit\u001b[39m\u001b[33m\"\u001b[39m]),\n\u001b[32m    218\u001b[39m     date=Helpers().construct_datetime_str(date=race[\u001b[33m\"\u001b[39m\u001b[33mdate\u001b[39m\u001b[33m\"\u001b[39m], time=race[\u001b[33m\"\u001b[39m\u001b[33mtime\u001b[39m\u001b[33m\"\u001b[39m]),\n\u001b[32m--> \u001b[39m\u001b[32m219\u001b[39m     results=\u001b[38;5;28;43mself\u001b[39;49m\u001b[43m.\u001b[49m\u001b[43mconstruct_results\u001b[49m\u001b[43m(\u001b[49m\u001b[43mrace\u001b[49m\u001b[43m[\u001b[49m\u001b[33;43m\"\u001b[39;49m\u001b[33;43mResults\u001b[39;49m\u001b[33;43m\"\u001b[39;49m\u001b[43m]\u001b[49m\u001b[43m)\u001b[49m,\n\u001b[32m    220\u001b[39m     first_practice=sessions[\u001b[33m\"\u001b[39m\u001b[33mFirstPractice\u001b[39m\u001b[33m\"\u001b[39m],\n\u001b[32m    221\u001b[39m     second_practice=sessions[\u001b[33m\"\u001b[39m\u001b[33mSecondPractice\u001b[39m\u001b[33m\"\u001b[39m],\n\u001b[32m    222\u001b[39m     third_practice=sessions[\u001b[33m\"\u001b[39m\u001b[33mThirdPractice\u001b[39m\u001b[33m\"\u001b[39m],\n\u001b[32m    223\u001b[39m     sprint=sprint,\n\u001b[32m    224\u001b[39m     sprint_results=\u001b[38;5;28mself\u001b[39m.construct_results(race[\u001b[33m\"\u001b[39m\u001b[33mSprintResults\u001b[39m\u001b[33m\"\u001b[39m]),\n\u001b[32m    225\u001b[39m     qualifying=sessions[\u001b[33m\"\u001b[39m\u001b[33mQualifying\u001b[39m\u001b[33m\"\u001b[39m],\n\u001b[32m    226\u001b[39m     qualifying_results=\u001b[38;5;28mself\u001b[39m.construct_results(race[\u001b[33m\"\u001b[39m\u001b[33mQualifyingResults\u001b[39m\u001b[33m\"\u001b[39m]),\n\u001b[32m    227\u001b[39m     pit_stops=\u001b[38;5;28mself\u001b[39m.construct_pit_stops(race[\u001b[33m\"\u001b[39m\u001b[33mPitStops\u001b[39m\u001b[33m\"\u001b[39m]),\n\u001b[32m    228\u001b[39m     laps=\u001b[38;5;28mself\u001b[39m.construct_laps(race[\u001b[33m\"\u001b[39m\u001b[33mLaps\u001b[39m\u001b[33m\"\u001b[39m]),\n\u001b[32m    229\u001b[39m )\n",
      "\u001b[36mFile \u001b[39m\u001b[32m~/miniconda3/envs/haia/lib/python3.13/site-packages/ergast_py/type_constructor.py:291\u001b[39m, in \u001b[36mTypeConstructor.construct_results\u001b[39m\u001b[34m(self, results)\u001b[39m\n\u001b[32m    287\u001b[39m \u001b[38;5;28;01mdef\u001b[39;00m\u001b[38;5;250m \u001b[39m\u001b[34mconstruct_results\u001b[39m(\u001b[38;5;28mself\u001b[39m, results: \u001b[38;5;28mdict\u001b[39m) -> \u001b[38;5;28mlist\u001b[39m[Result]:\n\u001b[32m    288\u001b[39m \u001b[38;5;250m    \u001b[39m\u001b[33;03m\"\"\"\u001b[39;00m\n\u001b[32m    289\u001b[39m \u001b[33;03m    Construct a list of Results from a JSON dictionary\u001b[39;00m\n\u001b[32m    290\u001b[39m \u001b[33;03m    \"\"\"\u001b[39;00m\n\u001b[32m--> \u001b[39m\u001b[32m291\u001b[39m     \u001b[38;5;28;01mreturn\u001b[39;00m [\u001b[38;5;28;43mself\u001b[39;49m\u001b[43m.\u001b[49m\u001b[43mconstruct_result\u001b[49m\u001b[43m(\u001b[49m\u001b[43mresult\u001b[49m\u001b[43m)\u001b[49m \u001b[38;5;28;01mfor\u001b[39;00m result \u001b[38;5;129;01min\u001b[39;00m results]\n",
      "\u001b[36mFile \u001b[39m\u001b[32m~/miniconda3/envs/haia/lib/python3.13/site-packages/ergast_py/type_constructor.py:279\u001b[39m, in \u001b[36mTypeConstructor.construct_result\u001b[39m\u001b[34m(self, result)\u001b[39m\n\u001b[32m    266\u001b[39m \u001b[38;5;28;01mexcept\u001b[39;00m \u001b[38;5;167;01mValueError\u001b[39;00m:\n\u001b[32m    267\u001b[39m     \u001b[38;5;66;03m# Warn that the number isn't present\u001b[39;00m\n\u001b[32m    268\u001b[39m     number = \u001b[38;5;28;01mNone\u001b[39;00m\n\u001b[32m    270\u001b[39m \u001b[38;5;28;01mreturn\u001b[39;00m Result(\n\u001b[32m    271\u001b[39m     number=number,\n\u001b[32m    272\u001b[39m     position=\u001b[38;5;28mint\u001b[39m(result[\u001b[33m\"\u001b[39m\u001b[33mposition\u001b[39m\u001b[33m\"\u001b[39m]),\n\u001b[32m    273\u001b[39m     position_text=result[\u001b[33m\"\u001b[39m\u001b[33mpositionText\u001b[39m\u001b[33m\"\u001b[39m],\n\u001b[32m    274\u001b[39m     points=\u001b[38;5;28mfloat\u001b[39m(result[\u001b[33m\"\u001b[39m\u001b[33mpoints\u001b[39m\u001b[33m\"\u001b[39m]),\n\u001b[32m    275\u001b[39m     driver=\u001b[38;5;28mself\u001b[39m.construct_driver(result[\u001b[33m\"\u001b[39m\u001b[33mDriver\u001b[39m\u001b[33m\"\u001b[39m]),\n\u001b[32m    276\u001b[39m     constructor=\u001b[38;5;28mself\u001b[39m.construct_constructor(result[\u001b[33m\"\u001b[39m\u001b[33mConstructor\u001b[39m\u001b[33m\"\u001b[39m]),\n\u001b[32m    277\u001b[39m     grid=\u001b[38;5;28mint\u001b[39m(result[\u001b[33m\"\u001b[39m\u001b[33mgrid\u001b[39m\u001b[33m\"\u001b[39m]),\n\u001b[32m    278\u001b[39m     laps=\u001b[38;5;28mint\u001b[39m(result[\u001b[33m\"\u001b[39m\u001b[33mlaps\u001b[39m\u001b[33m\"\u001b[39m]),\n\u001b[32m--> \u001b[39m\u001b[32m279\u001b[39m     status=\u001b[38;5;28mint\u001b[39m(\u001b[43mStatusType\u001b[49m\u001b[43m(\u001b[49m\u001b[43m)\u001b[49m\u001b[43m.\u001b[49m\u001b[43mstring_to_id\u001b[49m\u001b[43m[\u001b[49m\u001b[43mresult\u001b[49m\u001b[43m[\u001b[49m\u001b[33;43m\"\u001b[39;49m\u001b[33;43mstatus\u001b[39;49m\u001b[33;43m\"\u001b[39;49m\u001b[43m]\u001b[49m\u001b[43m]\u001b[49m),\n\u001b[32m    280\u001b[39m     time=\u001b[38;5;28mself\u001b[39m.construct_time(result[\u001b[33m\"\u001b[39m\u001b[33mTime\u001b[39m\u001b[33m\"\u001b[39m]),\n\u001b[32m    281\u001b[39m     fastest_lap=\u001b[38;5;28mself\u001b[39m.construct_fastest_lap(result[\u001b[33m\"\u001b[39m\u001b[33mFastestLap\u001b[39m\u001b[33m\"\u001b[39m]),\n\u001b[32m    282\u001b[39m     qual_1=qualifying[\u001b[33m\"\u001b[39m\u001b[33mQ1\u001b[39m\u001b[33m\"\u001b[39m],\n\u001b[32m    283\u001b[39m     qual_2=qualifying[\u001b[33m\"\u001b[39m\u001b[33mQ2\u001b[39m\u001b[33m\"\u001b[39m],\n\u001b[32m    284\u001b[39m     qual_3=qualifying[\u001b[33m\"\u001b[39m\u001b[33mQ3\u001b[39m\u001b[33m\"\u001b[39m],\n\u001b[32m    285\u001b[39m )\n",
      "\u001b[31mKeyError\u001b[39m: 'Lapped'"
     ]
    }
   ],
   "source": [
    "results = e.season(2023).round(1).get_results()"
   ]
  },
  {
   "cell_type": "code",
   "execution_count": 130,
   "id": "80aea5d5",
   "metadata": {},
   "outputs": [
    {
     "name": "stdout",
     "output_type": "stream",
     "text": [
      "[Race(season=2025, round_no=1, url='https://en.wikipedia.org/wiki/2025_Australian_Grand_Prix', race_name='Australian Grand Prix', circuit=Circuit(circuit_id='albert_park', url='https://en.wikipedia.org/wiki/Albert_Park_Circuit', circuit_name='Albert Park Grand Prix Circuit', location=Location(latitude=-37.8497, longitude=144.968, locality='Melbourne', country='Australia')), date=datetime.datetime(2025, 3, 16, 4, 0, tzinfo=datetime.timezone.utc), results=[Result(number=4, position=1, position_text='1', points=25.0, driver=Driver(driver_id='norris', code='NOR', url='http://en.wikipedia.org/wiki/Lando_Norris', given_name='Lando', family_name='Norris', date_of_birth=datetime.date(1999, 11, 13), nationality='British', permanent_number=4), constructor=Constructor(constructor_id='mclaren', url='http://en.wikipedia.org/wiki/McLaren', name='McLaren', nationality='British'), grid=1, laps=57, status=1, time=Time(millis=datetime.time(1, 42, 6, 304000), time='1:42:06.304'), fastest_lap=FastestLap(rank=1, lap=43, time=datetime.time(0, 1, 22, 167000), average_speed=AverageSpeed(units='', speed=0.0)), qual_1=None, qual_2=None, qual_3=None), Result(number=1, position=2, position_text='2', points=18.0, driver=Driver(driver_id='max_verstappen', code='VER', url='http://en.wikipedia.org/wiki/Max_Verstappen', given_name='Max', family_name='Verstappen', date_of_birth=datetime.date(1997, 9, 30), nationality='Dutch', permanent_number=33), constructor=Constructor(constructor_id='red_bull', url='http://en.wikipedia.org/wiki/Red_Bull_Racing', name='Red Bull', nationality='Austrian'), grid=3, laps=57, status=1, time=Time(millis=datetime.time(1, 42, 7, 199000), time='+0.895'), fastest_lap=FastestLap(rank=3, lap=43, time=datetime.time(0, 1, 23, 81000), average_speed=AverageSpeed(units='', speed=0.0)), qual_1=None, qual_2=None, qual_3=None), Result(number=63, position=3, position_text='3', points=15.0, driver=Driver(driver_id='russell', code='RUS', url='http://en.wikipedia.org/wiki/George_Russell_(racing_driver)', given_name='George', family_name='Russell', date_of_birth=datetime.date(1998, 2, 15), nationality='British', permanent_number=63), constructor=Constructor(constructor_id='mercedes', url='http://en.wikipedia.org/wiki/Mercedes-Benz_in_Formula_One', name='Mercedes', nationality='German'), grid=4, laps=57, status=1, time=Time(millis=datetime.time(1, 42, 14, 785000), time='+8.481'), fastest_lap=FastestLap(rank=11, lap=43, time=datetime.time(0, 1, 25, 65000), average_speed=AverageSpeed(units='', speed=0.0)), qual_1=None, qual_2=None, qual_3=None), Result(number=12, position=4, position_text='4', points=12.0, driver=Driver(driver_id='antonelli', code='ANT', url='https://en.wikipedia.org/wiki/Andrea_Kimi_Antonelli', given_name='Andrea Kimi', family_name='Antonelli', date_of_birth=datetime.date(2006, 8, 25), nationality='Italian', permanent_number=12), constructor=Constructor(constructor_id='mercedes', url='http://en.wikipedia.org/wiki/Mercedes-Benz_in_Formula_One', name='Mercedes', nationality='German'), grid=16, laps=57, status=1, time=Time(millis=datetime.time(1, 42, 16, 439000), time='+10.135'), fastest_lap=FastestLap(rank=9, lap=43, time=datetime.time(0, 1, 24, 901000), average_speed=AverageSpeed(units='', speed=0.0)), qual_1=None, qual_2=None, qual_3=None), Result(number=23, position=5, position_text='5', points=10.0, driver=Driver(driver_id='albon', code='ALB', url='http://en.wikipedia.org/wiki/Alexander_Albon', given_name='Alexander', family_name='Albon', date_of_birth=datetime.date(1996, 3, 23), nationality='Thai', permanent_number=23), constructor=Constructor(constructor_id='williams', url='http://en.wikipedia.org/wiki/Williams_Grand_Prix_Engineering', name='Williams', nationality='British'), grid=6, laps=57, status=1, time=Time(millis=datetime.time(1, 42, 19, 77000), time='+12.773'), fastest_lap=FastestLap(rank=8, lap=43, time=datetime.time(0, 1, 24, 597000), average_speed=AverageSpeed(units='', speed=0.0)), qual_1=None, qual_2=None, qual_3=None), Result(number=18, position=6, position_text='6', points=8.0, driver=Driver(driver_id='stroll', code='STR', url='http://en.wikipedia.org/wiki/Lance_Stroll', given_name='Lance', family_name='Stroll', date_of_birth=datetime.date(1998, 10, 29), nationality='Canadian', permanent_number=18), constructor=Constructor(constructor_id='aston_martin', url='http://en.wikipedia.org/wiki/Aston_Martin_in_Formula_One', name='Aston Martin', nationality='British'), grid=13, laps=57, status=1, time=Time(millis=datetime.time(1, 42, 23, 717000), time='+17.413'), fastest_lap=FastestLap(rank=14, lap=43, time=datetime.time(0, 1, 25, 538000), average_speed=AverageSpeed(units='', speed=0.0)), qual_1=None, qual_2=None, qual_3=None), Result(number=27, position=7, position_text='7', points=6.0, driver=Driver(driver_id='hulkenberg', code='HUL', url='http://en.wikipedia.org/wiki/Nico_H%C3%BClkenberg', given_name='Nico', family_name='Hülkenberg', date_of_birth=datetime.date(1987, 8, 19), nationality='German', permanent_number=27), constructor=Constructor(constructor_id='sauber', url='http://en.wikipedia.org/wiki/Sauber_Motorsport', name='Sauber', nationality='Swiss'), grid=17, laps=57, status=1, time=Time(millis=datetime.time(1, 42, 24, 727000), time='+18.423'), fastest_lap=FastestLap(rank=12, lap=43, time=datetime.time(0, 1, 25, 243000), average_speed=AverageSpeed(units='', speed=0.0)), qual_1=None, qual_2=None, qual_3=None), Result(number=16, position=8, position_text='8', points=4.0, driver=Driver(driver_id='leclerc', code='LEC', url='http://en.wikipedia.org/wiki/Charles_Leclerc', given_name='Charles', family_name='Leclerc', date_of_birth=datetime.date(1997, 10, 16), nationality='Monegasque', permanent_number=16), constructor=Constructor(constructor_id='ferrari', url='http://en.wikipedia.org/wiki/Scuderia_Ferrari', name='Ferrari', nationality='Italian'), grid=7, laps=57, status=1, time=Time(millis=datetime.time(1, 42, 26, 130000), time='+19.826'), fastest_lap=FastestLap(rank=13, lap=43, time=datetime.time(0, 1, 25, 271000), average_speed=AverageSpeed(units='', speed=0.0)), qual_1=None, qual_2=None, qual_3=None), Result(number=81, position=9, position_text='9', points=2.0, driver=Driver(driver_id='piastri', code='PIA', url='http://en.wikipedia.org/wiki/Oscar_Piastri', given_name='Oscar', family_name='Piastri', date_of_birth=datetime.date(2001, 4, 6), nationality='Australian', permanent_number=81), constructor=Constructor(constructor_id='mclaren', url='http://en.wikipedia.org/wiki/McLaren', name='McLaren', nationality='British'), grid=2, laps=57, status=1, time=Time(millis=datetime.time(1, 42, 26, 752000), time='+20.448'), fastest_lap=FastestLap(rank=4, lap=43, time=datetime.time(0, 1, 23, 242000), average_speed=AverageSpeed(units='', speed=0.0)), qual_1=None, qual_2=None, qual_3=None), Result(number=44, position=10, position_text='10', points=1.0, driver=Driver(driver_id='hamilton', code='HAM', url='http://en.wikipedia.org/wiki/Lewis_Hamilton', given_name='Lewis', family_name='Hamilton', date_of_birth=datetime.date(1985, 1, 7), nationality='British', permanent_number=44), constructor=Constructor(constructor_id='ferrari', url='http://en.wikipedia.org/wiki/Scuderia_Ferrari', name='Ferrari', nationality='Italian'), grid=8, laps=57, status=1, time=Time(millis=datetime.time(1, 42, 28, 777000), time='+22.473'), fastest_lap=FastestLap(rank=7, lap=43, time=datetime.time(0, 1, 24, 218000), average_speed=AverageSpeed(units='', speed=0.0)), qual_1=None, qual_2=None, qual_3=None), Result(number=10, position=11, position_text='11', points=0.0, driver=Driver(driver_id='gasly', code='GAS', url='http://en.wikipedia.org/wiki/Pierre_Gasly', given_name='Pierre', family_name='Gasly', date_of_birth=datetime.date(1996, 2, 7), nationality='French', permanent_number=10), constructor=Constructor(constructor_id='alpine', url='http://en.wikipedia.org/wiki/Alpine_F1_Team', name='Alpine F1 Team', nationality='French'), grid=9, laps=57, status=1, time=Time(millis=datetime.time(1, 42, 32, 806000), time='+26.502'), fastest_lap=FastestLap(rank=10, lap=43, time=datetime.time(0, 1, 25, 20000), average_speed=AverageSpeed(units='', speed=0.0)), qual_1=None, qual_2=None, qual_3=None), Result(number=22, position=12, position_text='12', points=0.0, driver=Driver(driver_id='tsunoda', code='TSU', url='http://en.wikipedia.org/wiki/Yuki_Tsunoda', given_name='Yuki', family_name='Tsunoda', date_of_birth=datetime.date(2000, 5, 11), nationality='Japanese', permanent_number=22), constructor=Constructor(constructor_id='rb', url='http://en.wikipedia.org/wiki/RB_Formula_One_Team', name='RB F1 Team', nationality='Italian'), grid=5, laps=57, status=1, time=Time(millis=datetime.time(1, 42, 36, 188000), time='+29.884'), fastest_lap=FastestLap(rank=6, lap=43, time=datetime.time(0, 1, 24, 194000), average_speed=AverageSpeed(units='', speed=0.0)), qual_1=None, qual_2=None, qual_3=None), Result(number=31, position=13, position_text='13', points=0.0, driver=Driver(driver_id='ocon', code='OCO', url='http://en.wikipedia.org/wiki/Esteban_Ocon', given_name='Esteban', family_name='Ocon', date_of_birth=datetime.date(1996, 9, 17), nationality='French', permanent_number=31), constructor=Constructor(constructor_id='haas', url='http://en.wikipedia.org/wiki/Haas_F1_Team', name='Haas F1 Team', nationality='American'), grid=19, laps=57, status=1, time=Time(millis=datetime.time(1, 42, 39, 465000), time='+33.161'), fastest_lap=FastestLap(rank=15, lap=42, time=datetime.time(0, 1, 26, 764000), average_speed=AverageSpeed(units='', speed=0.0)), qual_1=None, qual_2=None, qual_3=None), Result(number=87, position=14, position_text='14', points=0.0, driver=Driver(driver_id='bearman', code='BEA', url='http://en.wikipedia.org/wiki/Oliver_Bearman', given_name='Oliver', family_name='Bearman', date_of_birth=datetime.date(2005, 5, 8), nationality='British', permanent_number=87), constructor=Constructor(constructor_id='haas', url='http://en.wikipedia.org/wiki/Haas_F1_Team', name='Haas F1 Team', nationality='American'), grid=20, laps=57, status=1, time=Time(millis=datetime.time(1, 42, 46, 655000), time='+40.351'), fastest_lap=FastestLap(rank=16, lap=42, time=datetime.time(0, 1, 27, 603000), average_speed=AverageSpeed(units='', speed=0.0)), qual_1=None, qual_2=None, qual_3=None), Result(number=30, position=15, position_text='R', points=0.0, driver=Driver(driver_id='lawson', code='LAW', url='http://en.wikipedia.org/wiki/Liam_Lawson', given_name='Liam', family_name='Lawson', date_of_birth=datetime.date(2002, 2, 11), nationality='New Zealander', permanent_number=30), constructor=Constructor(constructor_id='red_bull', url='http://en.wikipedia.org/wiki/Red_Bull_Racing', name='Red Bull', nationality='Austrian'), grid=18, laps=46, status=31, time=Time(millis=None, time=''), fastest_lap=FastestLap(rank=2, lap=43, time=datetime.time(0, 1, 22, 970000), average_speed=AverageSpeed(units='', speed=0.0)), qual_1=None, qual_2=None, qual_3=None), Result(number=5, position=16, position_text='R', points=0.0, driver=Driver(driver_id='bortoleto', code='BOR', url='https://en.wikipedia.org/wiki/Gabriel_Bortoleto', given_name='Gabriel', family_name='Bortoleto', date_of_birth=datetime.date(2004, 10, 14), nationality='Brazilian', permanent_number=5), constructor=Constructor(constructor_id='sauber', url='http://en.wikipedia.org/wiki/Sauber_Motorsport', name='Sauber', nationality='Swiss'), grid=15, laps=45, status=31, time=Time(millis=None, time=''), fastest_lap=FastestLap(rank=5, lap=43, time=datetime.time(0, 1, 24, 192000), average_speed=AverageSpeed(units='', speed=0.0)), qual_1=None, qual_2=None, qual_3=None), Result(number=14, position=17, position_text='R', points=0.0, driver=Driver(driver_id='alonso', code='ALO', url='http://en.wikipedia.org/wiki/Fernando_Alonso', given_name='Fernando', family_name='Alonso', date_of_birth=datetime.date(1981, 7, 29), nationality='Spanish', permanent_number=14), constructor=Constructor(constructor_id='aston_martin', url='http://en.wikipedia.org/wiki/Aston_Martin_in_Formula_One', name='Aston Martin', nationality='British'), grid=12, laps=32, status=31, time=Time(millis=None, time=''), fastest_lap=FastestLap(rank=17, lap=32, time=datetime.time(0, 1, 28, 819000), average_speed=AverageSpeed(units='', speed=0.0)), qual_1=None, qual_2=None, qual_3=None), Result(number=55, position=18, position_text='R', points=0.0, driver=Driver(driver_id='sainz', code='SAI', url='http://en.wikipedia.org/wiki/Carlos_Sainz_Jr.', given_name='Carlos', family_name='Sainz', date_of_birth=datetime.date(1994, 9, 1), nationality='Spanish', permanent_number=55), constructor=Constructor(constructor_id='williams', url='http://en.wikipedia.org/wiki/Williams_Grand_Prix_Engineering', name='Williams', nationality='British'), grid=10, laps=0, status=31, time=Time(millis=None, time=''), fastest_lap=FastestLap(rank=0, lap=0, time=None, average_speed=AverageSpeed(units='', speed=0.0)), qual_1=None, qual_2=None, qual_3=None), Result(number=7, position=19, position_text='R', points=0.0, driver=Driver(driver_id='doohan', code='DOO', url='http://en.wikipedia.org/wiki/Jack_Doohan', given_name='Jack', family_name='Doohan', date_of_birth=datetime.date(2003, 1, 20), nationality='Australian', permanent_number=7), constructor=Constructor(constructor_id='alpine', url='http://en.wikipedia.org/wiki/Alpine_F1_Team', name='Alpine F1 Team', nationality='French'), grid=14, laps=0, status=31, time=Time(millis=None, time=''), fastest_lap=FastestLap(rank=0, lap=0, time=None, average_speed=AverageSpeed(units='', speed=0.0)), qual_1=None, qual_2=None, qual_3=None), Result(number=6, position=20, position_text='R', points=0.0, driver=Driver(driver_id='hadjar', code='HAD', url='https://en.wikipedia.org/wiki/Isack_Hadjar', given_name='Isack', family_name='Hadjar', date_of_birth=datetime.date(2004, 9, 28), nationality='French', permanent_number=6), constructor=Constructor(constructor_id='rb', url='http://en.wikipedia.org/wiki/RB_Formula_One_Team', name='RB F1 Team', nationality='Italian'), grid=11, laps=0, status=31, time=Time(millis=None, time=''), fastest_lap=FastestLap(rank=0, lap=0, time=None, average_speed=AverageSpeed(units='', speed=0.0)), qual_1=None, qual_2=None, qual_3=None)], first_practice=None, second_practice=None, third_practice=None, sprint=None, sprint_results=[], qualifying=None, qualifying_results=[], pit_stops=[], laps=[])]\n"
     ]
    }
   ],
   "source": [
    "print(results)"
   ]
  },
  {
   "cell_type": "code",
   "execution_count": 60,
   "id": "f04bc5e8",
   "metadata": {},
   "outputs": [
    {
     "data": {
      "text/plain": [
       "Index(['DriverNumber', 'BroadcastName', 'Abbreviation', 'DriverId', 'TeamName',\n",
       "       'TeamColor', 'TeamId', 'FirstName', 'LastName', 'FullName',\n",
       "       'HeadshotUrl', 'CountryCode', 'Position', 'ClassifiedPosition',\n",
       "       'GridPosition', 'Q1', 'Q2', 'Q3', 'Time', 'Status', 'Points'],\n",
       "      dtype='object')"
      ]
     },
     "execution_count": 60,
     "metadata": {},
     "output_type": "execute_result"
    }
   ],
   "source": [
    "session.results.keys()"
   ]
  },
  {
   "cell_type": "code",
   "execution_count": 66,
   "id": "e1d6f7e6",
   "metadata": {},
   "outputs": [
    {
     "data": {
      "text/plain": [
       "{'Key': 17, 'Code': 'AUT', 'Name': 'Austria'}"
      ]
     },
     "execution_count": 66,
     "metadata": {},
     "output_type": "execute_result"
    }
   ],
   "source": [
    "session.session_info['Meeting']['Country']['Name']"
   ]
  },
  {
   "cell_type": "code",
   "execution_count": 65,
   "id": "7e7e9254",
   "metadata": {},
   "outputs": [
    {
     "data": {
      "text/plain": [
       "str"
      ]
     },
     "execution_count": 65,
     "metadata": {},
     "output_type": "execute_result"
    }
   ],
   "source": [
    "type(session.session_info['Meeting']['Name'])"
   ]
  }
 ],
 "metadata": {
  "kernelspec": {
   "display_name": "haia",
   "language": "python",
   "name": "python3"
  },
  "language_info": {
   "codemirror_mode": {
    "name": "ipython",
    "version": 3
   },
   "file_extension": ".py",
   "mimetype": "text/x-python",
   "name": "python",
   "nbconvert_exporter": "python",
   "pygments_lexer": "ipython3",
   "version": "3.13.2"
  }
 },
 "nbformat": 4,
 "nbformat_minor": 5
}
